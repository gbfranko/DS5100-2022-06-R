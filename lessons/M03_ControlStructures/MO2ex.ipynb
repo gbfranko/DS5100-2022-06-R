{
 "cells": [
  {
   "cell_type": "code",
   "execution_count": null,
   "id": "5b818d28-a5b5-45c4-8ca4-d17f5e56e8ab",
   "metadata": {},
   "outputs": [],
   "source": [
    "Gunnar Franko, Noah Dunn"
   ]
  },
  {
   "cell_type": "markdown",
   "id": "00cbf40e-cc4b-42ea-ba3f-1af79c89d9bf",
   "metadata": {},
   "source": [
    "# Exercise 2.2"
   ]
  },
  {
   "cell_type": "code",
   "execution_count": 1,
   "id": "2e89d967-9abb-42d9-bcad-6b3038f43543",
   "metadata": {},
   "outputs": [
    {
     "name": "stdout",
     "output_type": "stream",
     "text": [
      "2\n"
     ]
    }
   ],
   "source": [
    "x = [1, 2, 3, 4]\n",
    "print(x[1])"
   ]
  },
  {
   "cell_type": "markdown",
   "id": "702b8494-b9d1-4c53-b083-62ccbb1ecb41",
   "metadata": {},
   "source": [
    "# Exercise 2.4"
   ]
  },
  {
   "cell_type": "code",
   "execution_count": 2,
   "id": "b66cdcc0-4825-45b6-b3c1-1d54994b90b5",
   "metadata": {},
   "outputs": [
    {
     "data": {
      "text/plain": [
       "True"
      ]
     },
     "execution_count": 2,
     "metadata": {},
     "output_type": "execute_result"
    }
   ],
   "source": [
    "y = {'a', 'b', 'c'}\n",
    "string = 'b'\n",
    "string in y"
   ]
  },
  {
   "cell_type": "markdown",
   "id": "9c3b6c5b-2fdb-4284-9fe1-96e03359430c",
   "metadata": {},
   "source": [
    "# Exercise 2.6"
   ]
  },
  {
   "cell_type": "raw",
   "id": "d7d319ae-27dc-4536-aa2e-bde870012457",
   "metadata": {},
   "source": [
    "-5, -3, -1, 1, 3"
   ]
  },
  {
   "cell_type": "markdown",
   "id": "083fd754-b593-413b-b791-99b9f004b6e6",
   "metadata": {
    "jp-MarkdownHeadingCollapsed": true,
    "tags": []
   },
   "source": [
    "# Exercise 2.8"
   ]
  },
  {
   "cell_type": "code",
   "execution_count": 3,
   "id": "88eacef9-621d-47b4-9ca2-1393e7d6332e",
   "metadata": {},
   "outputs": [
    {
     "name": "stdout",
     "output_type": "stream",
     "text": [
      "4\n"
     ]
    }
   ],
   "source": [
    "l = [2, 3.1, True, 'x']\n",
    "print(len(l))"
   ]
  },
  {
   "cell_type": "markdown",
   "id": "4be9ca0c-7475-4ac4-a6fd-14e71c7405a4",
   "metadata": {},
   "source": [
    "# Exercise 2.10"
   ]
  },
  {
   "cell_type": "code",
   "execution_count": 13,
   "id": "26f2ca3c-4357-406c-85ea-3ae5ee4e8d4b",
   "metadata": {},
   "outputs": [
    {
     "name": "stdout",
     "output_type": "stream",
     "text": [
      "False\n"
     ]
    }
   ],
   "source": [
    "x = 4\n",
    "y = 3\n",
    "z = x*y\n",
    "\n",
    "print(z>100)"
   ]
  },
  {
   "cell_type": "code",
   "execution_count": null,
   "id": "ed9f8e3e-1c65-45da-af22-7285d3d86517",
   "metadata": {},
   "outputs": [],
   "source": []
  }
 ],
 "metadata": {
  "kernelspec": {
   "display_name": "Python 3 (ipykernel)",
   "language": "python",
   "name": "python3"
  },
  "language_info": {
   "codemirror_mode": {
    "name": "ipython",
    "version": 3
   },
   "file_extension": ".py",
   "mimetype": "text/x-python",
   "name": "python",
   "nbconvert_exporter": "python",
   "pygments_lexer": "ipython3",
   "version": "3.9.7"
  }
 },
 "nbformat": 4,
 "nbformat_minor": 5
}
