{
 "cells": [
  {
   "cell_type": "markdown",
   "id": "ef164716-7253-45b4-97a3-95fbac1aac8e",
   "metadata": {},
   "source": [
    "Gunnar Franko, Noah Dunn "
   ]
  },
  {
   "cell_type": "markdown",
   "id": "4c1c870e-7b24-4f3e-b6b7-1bde4c629e4f",
   "metadata": {},
   "source": [
    "# Exercise 3.2"
   ]
  },
  {
   "cell_type": "code",
   "execution_count": 13,
   "id": "077d620d-7d88-41c8-b72b-4f9fed462c84",
   "metadata": {},
   "outputs": [
    {
     "name": "stdout",
     "output_type": "stream",
     "text": [
      "-2\n",
      "max_val\n",
      "0\n",
      "5\n",
      "6\n"
     ]
    }
   ],
   "source": [
    "xx = [-2, 8, 0, 5, 6]\n",
    "max_val = max(xx)\n",
    "for i in xx:\n",
    "    if i < max_val:\n",
    "        print(i)\n",
    "    else: \n",
    "        print('max_val')"
   ]
  },
  {
   "cell_type": "markdown",
   "id": "a409ab27-0ac4-4b74-ad7c-6791de2aca6c",
   "metadata": {},
   "source": [
    "# Exercise 3.4"
   ]
  },
  {
   "cell_type": "code",
   "execution_count": 14,
   "id": "43e68845-15bd-4cf2-866e-cc369df11aeb",
   "metadata": {},
   "outputs": [
    {
     "name": "stdout",
     "output_type": "stream",
     "text": [
      "virginia\n",
      "python\n",
      "computer\n"
     ]
    }
   ],
   "source": [
    "x = ['VirgINia' , 'pyTHon', 'CompuTer']\n",
    "for i in x:\n",
    "    print(i.lower())"
   ]
  },
  {
   "cell_type": "markdown",
   "id": "32cc55d9-b338-4160-a0f0-4cdcb70dcfbd",
   "metadata": {},
   "source": [
    "# Exercise 3.6"
   ]
  },
  {
   "cell_type": "code",
   "execution_count": 15,
   "id": "f6239292-604b-45d4-9ecb-b51d09e184c8",
   "metadata": {},
   "outputs": [
    {
     "name": "stdout",
     "output_type": "stream",
     "text": [
      "a : 1\n",
      "b : 2\n",
      "c : 3\n"
     ]
    }
   ],
   "source": [
    "mydict = {'a':1, 'b':2, 'c':3}\n",
    "for key, value in mydict.items():\n",
    "    print(key, ':', value)"
   ]
  },
  {
   "cell_type": "markdown",
   "id": "68491ede-c278-412a-92e5-edf455974cc4",
   "metadata": {},
   "source": [
    "# Exercise 3.8"
   ]
  },
  {
   "cell_type": "code",
   "execution_count": 16,
   "id": "5d4b1495-813a-4501-90d4-58bb27e43bd8",
   "metadata": {},
   "outputs": [
    {
     "name": "stdout",
     "output_type": "stream",
     "text": [
      "[8, 27, 64]\n"
     ]
    }
   ],
   "source": [
    "x = [2,3,4]\n",
    "cubes = [i**3 for i in x]\n",
    "print(cubes)"
   ]
  },
  {
   "cell_type": "markdown",
   "id": "7f83e546-af41-43c6-8d0e-6a55f9a6c946",
   "metadata": {},
   "source": [
    "# Exercise 3.10"
   ]
  },
  {
   "cell_type": "code",
   "execution_count": 22,
   "id": "a8f70834-8fcb-4f6b-b7ef-64157002671f",
   "metadata": {},
   "outputs": [
    {
     "name": "stdout",
     "output_type": "stream",
     "text": [
      "{0: 'a', 1: 'b', 2: 'c'}\n"
     ]
    }
   ],
   "source": [
    "letter_to_idx = {'a':0, 'b':1, 'c':2}\n",
    "inv_idx = {value:key for key,value in letter_to_idx.items()}\n",
    "print(inv_idx)"
   ]
  },
  {
   "cell_type": "code",
   "execution_count": null,
   "id": "d925d24d-1f21-4277-aea1-2f03b2825ad8",
   "metadata": {},
   "outputs": [],
   "source": []
  }
 ],
 "metadata": {
  "kernelspec": {
   "display_name": "Python 3 (ipykernel)",
   "language": "python",
   "name": "python3"
  },
  "language_info": {
   "codemirror_mode": {
    "name": "ipython",
    "version": 3
   },
   "file_extension": ".py",
   "mimetype": "text/x-python",
   "name": "python",
   "nbconvert_exporter": "python",
   "pygments_lexer": "ipython3",
   "version": "3.9.7"
  }
 },
 "nbformat": 4,
 "nbformat_minor": 5
}
